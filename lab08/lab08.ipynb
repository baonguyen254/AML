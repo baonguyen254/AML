{
  "nbformat": 4,
  "nbformat_minor": 0,
  "metadata": {
    "colab": {
      "name": "lab07",
      "provenance": [],
      "collapsed_sections": []
    },
    "kernelspec": {
      "name": "python3",
      "display_name": "Python 3"
    },
    "language_info": {
      "name": "python"
    },
    "accelerator": "GPU"
  },
  "cells": [
    {
      "cell_type": "code",
      "metadata": {
        "id": "TQVJKgYeiv1v"
      },
      "source": [
        "import tensorflow as tf\n",
        "from tensorflow import keras\n",
        "from tensorflow.keras import layers\n",
        "import numpy as np"
      ],
      "execution_count": 1,
      "outputs": []
    },
    {
      "cell_type": "code",
      "metadata": {
        "colab": {
          "base_uri": "https://localhost:8080/"
        },
        "id": "p1BqcJT97nDv",
        "outputId": "d90e6e32-9ade-4144-f7b9-5d2f97c21537"
      },
      "source": [
        "batch_size = 128 # batch size để đưa vào mô hình huấn luyện\n",
        "(x_train, y_train), (x_test, y_test) = keras.datasets.mnist.load_data() #đọc dữ liệu\n",
        "all_digits = np.concatenate([x_train, x_test]) \n",
        "labels = np.concatenate([y_train,y_test])\n",
        "all_digits = (all_digits.astype(\"float32\")-127.5) / 127.5 #đưa tấm hình về [-1,1]\n",
        "all_digits = np.reshape(all_digits,(-1,28,28,1)) #reshape toàn bộ dữ liệu lại\n",
        "all_digits = tf.data.Dataset.from_tensor_slices(all_digits) #Đưa dữ liệu về dạng tensor\n",
        "\n",
        "from sklearn.preprocessing import OneHotEncoder\n",
        "onehot_encoder = OneHotEncoder(sparse=False)\n",
        "onehot_encoder.fit(np.reshape(np.array(range(0,10)),[-1,1]))\n",
        "onehot_encoded = onehot_encoder.transform(np.reshape(labels,[-1,1]))\n",
        "all_labels = tf.data.Dataset.from_tensor_slices(onehot_encoded)\n",
        "\n",
        "dataset = tf.data.Dataset.zip((all_digits, all_labels))\n",
        "dataset = dataset.shuffle(buffer_size=1024).batch(batch_size).prefetch(32) #shuffle dữ liệu mỗi lần đưa vào mô hình"
      ],
      "execution_count": 2,
      "outputs": [
        {
          "output_type": "stream",
          "name": "stdout",
          "text": [
            "Downloading data from https://storage.googleapis.com/tensorflow/tf-keras-datasets/mnist.npz\n",
            "11493376/11490434 [==============================] - 0s 0us/step\n",
            "11501568/11490434 [==============================] - 0s 0us/step\n"
          ]
        }
      ]
    },
    {
      "cell_type": "code",
      "metadata": {
        "colab": {
          "base_uri": "https://localhost:8080/"
        },
        "id": "5oTN8JmSBFLk",
        "outputId": "9ba369e5-a143-4372-8b44-a52dda29cf9a"
      },
      "source": [
        "#Mô hình mạng discriminator\n",
        "Input = tf.keras.layers.Input(shape=(28, 28, 1))\n",
        "Label = tf.keras.layers.Input(shape=(10,))\n",
        "\n",
        "LabelDense = tf.keras.layers.Dense(50)(Label)\n",
        "LabelDense = tf.keras.layers.Dense(28*28)(LabelDense)\n",
        "LabelDense = tf.keras.layers.Reshape((28,28,1))(LabelDense)\n",
        "\n",
        "Discriminator = tf.keras.layers.Concatenate()([Input, LabelDense])\n",
        "Discriminator = tf.keras.layers.BatchNormalization()(Discriminator)\n",
        "Discriminator = tf.keras.layers.Flatten()(Discriminator)\n",
        "\n",
        "Discriminator = tf.keras.layers.Dense(units=1024)(Discriminator)\n",
        "Discriminator = tf.keras.layers.LeakyReLU(alpha=0.2)(Discriminator)\n",
        "Discriminator = tf.keras.layers.Dropout(0.3)(Discriminator)\n",
        "\n",
        "Discriminator = tf.keras.layers.Dense(units=512)(Discriminator)\n",
        "Discriminator = tf.keras.layers.LeakyReLU(alpha=0.2)(Discriminator)\n",
        "Discriminator = tf.keras.layers.Dropout(0.3)(Discriminator)\n",
        "\n",
        "Discriminator = tf.keras.layers.Dense(units=256)(Discriminator)\n",
        "Discriminator = tf.keras.layers.LeakyReLU(alpha=0.2)(Discriminator)\n",
        "Discriminator = tf.keras.layers.Dropout(0.3)(Discriminator)\n",
        "\n",
        "Discriminator = tf.keras.layers.Dense(units=1, activation=\"sigmoid\")(Discriminator)\n",
        "\n",
        "discriminator = tf.keras.models.Model(inputs=[Input, Label], outputs=Discriminator)\n",
        "\n",
        "discriminator.summary()\n"
      ],
      "execution_count": 3,
      "outputs": [
        {
          "output_type": "stream",
          "name": "stdout",
          "text": [
            "Model: \"model\"\n",
            "__________________________________________________________________________________________________\n",
            " Layer (type)                   Output Shape         Param #     Connected to                     \n",
            "==================================================================================================\n",
            " input_2 (InputLayer)           [(None, 10)]         0           []                               \n",
            "                                                                                                  \n",
            " dense (Dense)                  (None, 50)           550         ['input_2[0][0]']                \n",
            "                                                                                                  \n",
            " dense_1 (Dense)                (None, 784)          39984       ['dense[0][0]']                  \n",
            "                                                                                                  \n",
            " input_1 (InputLayer)           [(None, 28, 28, 1)]  0           []                               \n",
            "                                                                                                  \n",
            " reshape (Reshape)              (None, 28, 28, 1)    0           ['dense_1[0][0]']                \n",
            "                                                                                                  \n",
            " concatenate (Concatenate)      (None, 28, 28, 2)    0           ['input_1[0][0]',                \n",
            "                                                                  'reshape[0][0]']                \n",
            "                                                                                                  \n",
            " batch_normalization (BatchNorm  (None, 28, 28, 2)   8           ['concatenate[0][0]']            \n",
            " alization)                                                                                       \n",
            "                                                                                                  \n",
            " flatten (Flatten)              (None, 1568)         0           ['batch_normalization[0][0]']    \n",
            "                                                                                                  \n",
            " dense_2 (Dense)                (None, 1024)         1606656     ['flatten[0][0]']                \n",
            "                                                                                                  \n",
            " leaky_re_lu (LeakyReLU)        (None, 1024)         0           ['dense_2[0][0]']                \n",
            "                                                                                                  \n",
            " dropout (Dropout)              (None, 1024)         0           ['leaky_re_lu[0][0]']            \n",
            "                                                                                                  \n",
            " dense_3 (Dense)                (None, 512)          524800      ['dropout[0][0]']                \n",
            "                                                                                                  \n",
            " leaky_re_lu_1 (LeakyReLU)      (None, 512)          0           ['dense_3[0][0]']                \n",
            "                                                                                                  \n",
            " dropout_1 (Dropout)            (None, 512)          0           ['leaky_re_lu_1[0][0]']          \n",
            "                                                                                                  \n",
            " dense_4 (Dense)                (None, 256)          131328      ['dropout_1[0][0]']              \n",
            "                                                                                                  \n",
            " leaky_re_lu_2 (LeakyReLU)      (None, 256)          0           ['dense_4[0][0]']                \n",
            "                                                                                                  \n",
            " dropout_2 (Dropout)            (None, 256)          0           ['leaky_re_lu_2[0][0]']          \n",
            "                                                                                                  \n",
            " dense_5 (Dense)                (None, 1)            257         ['dropout_2[0][0]']              \n",
            "                                                                                                  \n",
            "==================================================================================================\n",
            "Total params: 2,303,583\n",
            "Trainable params: 2,303,579\n",
            "Non-trainable params: 4\n",
            "__________________________________________________________________________________________________\n"
          ]
        }
      ]
    },
    {
      "cell_type": "code",
      "metadata": {
        "colab": {
          "base_uri": "https://localhost:8080/"
        },
        "id": "vSQLY6nyjD1j",
        "outputId": "7d3fa2f3-20a4-4a7e-9900-b536b907724b"
      },
      "source": [
        "#mô hình của mạng Generator\n",
        "latten_dim = 100\n",
        "\n",
        "Input = tf.keras.layers.Input(shape=(latten_dim,))\n",
        "Label = tf.keras.layers.Input(shape=(10,))\n",
        "\n",
        "LabelDense = tf.keras.layers.Dense(50)(Label)\n",
        "LabelDense = tf.keras.layers.Dense(256)(LabelDense)\n",
        "\n",
        "Generator = tf.keras.layers.Dense(units=256)(Input)\n",
        "Generator = tf.keras.layers.Concatenate()([Generator, LabelDense])\n",
        "\n",
        "Generator = tf.keras.layers.Dense(units=512)(Generator)\n",
        "Generator = tf.keras.layers.LeakyReLU(alpha=0.2)(Generator)\n",
        "\n",
        "Generator = tf.keras.layers.Dense(units=1024)(Generator)\n",
        "Generator = tf.keras.layers.LeakyReLU(alpha=0.2)(Generator)\n",
        "\n",
        "Generator = tf.keras.layers.Dense(units=28*28)(Generator)\n",
        "Generator = tf.keras.layers.Activation(activation=\"tanh\",name=\"tanh\")(Generator)  #Đưa về một tấm ảnh nên dùng tanh để về [-1,1]\n",
        "\n",
        "Generator = tf.keras.layers.Reshape((28,28,1))(Generator)\n",
        "Generator = tf.keras.layers.BatchNormalization()(Generator)\n",
        "\n",
        "generator = tf.keras.models.Model(inputs=[Input, Label], outputs=Generator)\n",
        "\n",
        "\n",
        "generator.summary()\n",
        "\n",
        "\n"
      ],
      "execution_count": 4,
      "outputs": [
        {
          "output_type": "stream",
          "name": "stdout",
          "text": [
            "Model: \"model_1\"\n",
            "__________________________________________________________________________________________________\n",
            " Layer (type)                   Output Shape         Param #     Connected to                     \n",
            "==================================================================================================\n",
            " input_4 (InputLayer)           [(None, 10)]         0           []                               \n",
            "                                                                                                  \n",
            " input_3 (InputLayer)           [(None, 100)]        0           []                               \n",
            "                                                                                                  \n",
            " dense_6 (Dense)                (None, 50)           550         ['input_4[0][0]']                \n",
            "                                                                                                  \n",
            " dense_8 (Dense)                (None, 256)          25856       ['input_3[0][0]']                \n",
            "                                                                                                  \n",
            " dense_7 (Dense)                (None, 256)          13056       ['dense_6[0][0]']                \n",
            "                                                                                                  \n",
            " concatenate_1 (Concatenate)    (None, 512)          0           ['dense_8[0][0]',                \n",
            "                                                                  'dense_7[0][0]']                \n",
            "                                                                                                  \n",
            " dense_9 (Dense)                (None, 512)          262656      ['concatenate_1[0][0]']          \n",
            "                                                                                                  \n",
            " leaky_re_lu_3 (LeakyReLU)      (None, 512)          0           ['dense_9[0][0]']                \n",
            "                                                                                                  \n",
            " dense_10 (Dense)               (None, 1024)         525312      ['leaky_re_lu_3[0][0]']          \n",
            "                                                                                                  \n",
            " leaky_re_lu_4 (LeakyReLU)      (None, 1024)         0           ['dense_10[0][0]']               \n",
            "                                                                                                  \n",
            " dense_11 (Dense)               (None, 784)          803600      ['leaky_re_lu_4[0][0]']          \n",
            "                                                                                                  \n",
            " tanh (Activation)              (None, 784)          0           ['dense_11[0][0]']               \n",
            "                                                                                                  \n",
            " reshape_1 (Reshape)            (None, 28, 28, 1)    0           ['tanh[0][0]']                   \n",
            "                                                                                                  \n",
            " batch_normalization_1 (BatchNo  (None, 28, 28, 1)   4           ['reshape_1[0][0]']              \n",
            " rmalization)                                                                                     \n",
            "                                                                                                  \n",
            "==================================================================================================\n",
            "Total params: 1,631,034\n",
            "Trainable params: 1,631,032\n",
            "Non-trainable params: 2\n",
            "__________________________________________________________________________________________________\n"
          ]
        }
      ]
    },
    {
      "cell_type": "code",
      "metadata": {
        "id": "_iGynypejHsj"
      },
      "source": [
        "class Gan(keras.Model):\n",
        "    def __init__(self, discriminator, generator, latent_dim):\n",
        "        super(Gan,self).__init__()\n",
        "        self.discriminator=discriminator \n",
        "        self.generator=generator\n",
        "        self.latent_dim=latent_dim\n",
        "    def compile(self, d_optimizer, g_optimizer, loss_function):\n",
        "        super(Gan,self).compile()\n",
        "        self.d_optimizer=d_optimizer\n",
        "        self.g_optimizer=g_optimizer\n",
        "        self.loss_function=loss_function \n",
        "    def train_step(self, real_images):\n",
        "        # tạo batch size từ dữ liệu đầu vào\n",
        "        batch_size = tf.shape(real_images[0])[0]\n",
        "        CLabel = real_images[1] \n",
        "        random_latent_vectors = tf.random.normal(shape=(batch_size, self.latent_dim)) #tạo noises theo phân phối chuẩn\n",
        "\n",
        "        # Tạo ra ảnh giả từ mạng generator\n",
        "        generated_images = self.generator([random_latent_vectors ,CLabel])\n",
        "\n",
        "        # nối ảnh giả và ảnh thật làm bộ dữ liệu cho mô hình discriminator\n",
        "        combined_images = tf.concat([generated_images, real_images[0]], axis=0)\n",
        "        combined_CLabel = tf.concat([CLabel, CLabel], axis=0)\n",
        "        # Ở đây đánh nhãn ảnh thật là 0, ảnh giả là 1\n",
        "        labels = tf.concat(\n",
        "            [tf.ones((batch_size, 1)), tf.zeros((batch_size, 1))], axis=0\n",
        "        )\n",
        "        # trick để add thêm noise cho nhãn\n",
        "        labels += 0.05 * tf.random.uniform(tf.shape(labels))\n",
        "\n",
        "        # huấn luyện discriminator\n",
        "        with tf.GradientTape() as tape:\n",
        "            predictions = self.discriminator([combined_images, combined_CLabel]) #Dự đoán \n",
        "            d_loss = self.loss_function(labels, predictions)  #Đưa kết quả dự đoán và grouth-truth vào hàm loss\n",
        "        grads = tape.gradient(d_loss, self.discriminator.trainable_weights)\n",
        "        self.d_optimizer.apply_gradients(\n",
        "            zip(grads, self.discriminator.trainable_weights)\n",
        "        ) #cập nhật weights cho mô hình discrimunator\n",
        "\n",
        "\n",
        "        # lặp lại bước tạo noise như ở trên\n",
        "        random_latent_vectors = tf.random.normal(shape=(batch_size, self.latent_dim))\n",
        "\n",
        "        # tạo mộ bộ nhãn sao cho đều là 0 để đánh lừa discriminator\n",
        "        misleading_labels = tf.zeros((batch_size, 1))\n",
        "\n",
        "        # Train generator (lưu ý k update weights cho discriminator)\n",
        "        with tf.GradientTape() as tape:\n",
        "            predictions = self.discriminator([self.generator([random_latent_vectors, CLabel]), CLabel])\n",
        "            g_loss = self.loss_function(misleading_labels, predictions)\n",
        "        grads = tape.gradient(g_loss, self.generator.trainable_weights)\n",
        "        self.g_optimizer.apply_gradients(zip(grads, self.generator.trainable_weights))\n",
        "        return {\"d_loss\": d_loss, \"g_loss\": g_loss}"
      ],
      "execution_count": 12,
      "outputs": []
    },
    {
      "cell_type": "code",
      "metadata": {
        "id": "G5pYMGsljL2S"
      },
      "source": [
        "#overwrite callback để lúc huấn luyện xem ảnh in ra\n",
        "from IPython.display import Image, display\n",
        "class GANMonitor(keras.callbacks.Callback):\n",
        "    def __init__(self, num_img=3, latent_dim=100):\n",
        "        self.num_img = num_img\n",
        "        self.latent_dim = latent_dim\n",
        "\n",
        "    def on_epoch_end(self, epoch, logs=None):\n",
        "        random_latent_vectors = tf.random.normal(shape=(self.num_img, self.latent_dim)) #Tạo noises\n",
        "        labels=tf.constant([[1,0,0,0,0,0,0,0,0,0],\n",
        "                           [0,1,0,0,0,0,0,0,0,0],\n",
        "                           [0,0,1,0,0,0,0,0,0,0]])\n",
        "        generated_images = self.model.generator([random_latent_vectors,labels]) #tạo ảnh\n",
        "        generated_images = generated_images*127.5+127.5 #Đưa ảnh về [0,255]\n",
        "        generated_images.numpy() \n",
        "        print(\"epoch \",epoch)\n",
        "        for i in range(self.num_img):\n",
        "            img = keras.preprocessing.image.array_to_img(generated_images[i])\n",
        "            display(img) #in ảnh"
      ],
      "execution_count": 13,
      "outputs": []
    },
    {
      "cell_type": "code",
      "metadata": {
        "colab": {
          "base_uri": "https://localhost:8080/",
          "height": 1000
        },
        "id": "Bv10iNgwjQKh",
        "outputId": "bb71045a-ad76-4c0a-d6c8-a24c9fece790"
      },
      "source": [
        "epochs = 30 #số epochs\n",
        "latent_dim =100 #số chiều cho noises\n",
        "gan = Gan(discriminator=discriminator, generator=generator, latent_dim=latent_dim)\n",
        "gan.compile(\n",
        "    d_optimizer=keras.optimizers.Adam(learning_rate=0.0003,beta_1=0.5), \n",
        "    g_optimizer=keras.optimizers.Adam(learning_rate=0.0003,beta_1=0.5),\n",
        "    loss_function=keras.losses.BinaryCrossentropy(),\n",
        ")\n",
        "\n",
        "gan.fit(\n",
        "    dataset, epochs=epochs, callbacks=[GANMonitor(num_img=3, latent_dim=latent_dim)],verbose=0\n",
        "    )"
      ],
      "execution_count": null,
      "outputs": [
        {
          "output_type": "stream",
          "name": "stdout",
          "text": [
            "epoch  0\n"
          ]
        },
        {
          "output_type": "display_data",
          "data": {
            "image/png": "[encoded data removed]",
            "text/plain": [
              "<PIL.Image.Image image mode=L size=28x28 at 0x7F400C32D850>"
            ]
          },
          "metadata": {}
        },
        {
          "output_type": "display_data",
          "data": {
            "image/png": "[encoded data removed]",
            "text/plain": [
              "<PIL.Image.Image image mode=L size=28x28 at 0x7F3FD21B6990>"
            ]
          },
          "metadata": {}
        },
        {
          "output_type": "display_data",
          "data": {
            "image/png": "[encoded data removed]",
            "text/plain": [
              "<PIL.Image.Image image mode=L size=28x28 at 0x7F3FD22313D0>"
            ]
          },
          "metadata": {}
        },
        {
          "output_type": "stream",
          "name": "stdout",
          "text": [
            "epoch  1\n"
          ]
        },
        {
          "output_type": "display_data",
          "data": {
            "image/png": "[encoded data removed]",
            "text/plain": [
              "<PIL.Image.Image image mode=L size=28x28 at 0x7F400C33D510>"
            ]
          },
          "metadata": {}
        },
        {
          "output_type": "display_data",
          "data": {
            "image/png": "[encoded data removed]",
            "text/plain": [
              "<PIL.Image.Image image mode=L size=28x28 at 0x7F3FD2231390>"
            ]
          },
          "metadata": {}
        },
        {
          "output_type": "display_data",
          "data": {
            "image/png": "[encoded data removed]",
            "text/plain": [
              "<PIL.Image.Image image mode=L size=28x28 at 0x7F4022051F10>"
            ]
          },
          "metadata": {}
        },
        {
          "output_type": "stream",
          "name": "stdout",
          "text": [
            "epoch  2\n"
          ]
        },
        {
          "output_type": "display_data",
          "data": {
            "image/png": "[encoded data removed]",
            "text/plain": [
              "<PIL.Image.Image image mode=L size=28x28 at 0x7F3FD21B6D90>"
            ]
          },
          "metadata": {}
        },
        {
          "output_type": "display_data",
          "data": {
            "image/png": "[encoded data removed]",
            "text/plain": [
              "<PIL.Image.Image image mode=L size=28x28 at 0x7F3FD2224890>"
            ]
          },
          "metadata": {}
        },
        {
          "output_type": "display_data",
          "data": {
            "image/png": "[encoded data removed]",
            "text/plain": [
              "<PIL.Image.Image image mode=L size=28x28 at 0x7F400C34E650>"
            ]
          },
          "metadata": {}
        },
        {
          "output_type": "stream",
          "name": "stdout",
          "text": [
            "epoch  3\n"
          ]
        },
        {
          "output_type": "display_data",
          "data": {
            "image/png": "[encoded data removed]",
            "text/plain": [
              "<PIL.Image.Image image mode=L size=28x28 at 0x7F400C32D990>"
            ]
          },
          "metadata": {}
        },
        {
          "output_type": "display_data",
          "data": {
            "image/png": "[encoded data removed]",
            "text/plain": [
              "<PIL.Image.Image image mode=L size=28x28 at 0x7F400C3451D0>"
            ]
          },
          "metadata": {}
        },
        {
          "output_type": "display_data",
          "data": {
            "image/png": "[encoded data removed]",
            "text/plain": [
              "<PIL.Image.Image image mode=L size=28x28 at 0x7F400C32D990>"
            ]
          },
          "metadata": {}
        },
        {
          "output_type": "stream",
          "name": "stdout",
          "text": [
            "epoch  4\n"
          ]
        },
        {
          "output_type": "display_data",
          "data": {
            "image/png": "[encoded data removed]",
            "text/plain": [
              "<PIL.Image.Image image mode=L size=28x28 at 0x7F40220A73D0>"
            ]
          },
          "metadata": {}
        },
        {
          "output_type": "display_data",
          "data": {
            "image/png": "[encoded data removed]",
            "text/plain": [
              "<PIL.Image.Image image mode=L size=28x28 at 0x7F3FD2231390>"
            ]
          },
          "metadata": {}
        },
        {
          "output_type": "display_data",
          "data": {
            "image/png": "[encoded data removed]",
            "text/plain": [
              "<PIL.Image.Image image mode=L size=28x28 at 0x7F400C32DC50>"
            ]
          },
          "metadata": {}
        },
        {
          "output_type": "stream",
          "name": "stdout",
          "text": [
            "epoch  5\n"
          ]
        },
        {
          "output_type": "display_data",
          "data": {
            "image/png": "[encoded data removed]",
            "text/plain": [
              "<PIL.Image.Image image mode=L size=28x28 at 0x7F400C5C3A90>"
            ]
          },
          "metadata": {}
        },
        {
          "output_type": "display_data",
          "data": {
            "image/png": "[encoded data removed]",
            "text/plain": [
              "<PIL.Image.Image image mode=L size=28x28 at 0x7F3FD21B6F10>"
            ]
          },
          "metadata": {}
        },
        {
          "output_type": "display_data",
          "data": {
            "image/png": "[encoded data removed]",
            "text/plain": [
              "<PIL.Image.Image image mode=L size=28x28 at 0x7F400C3992D0>"
            ]
          },
          "metadata": {}
        },
        {
          "output_type": "stream",
          "name": "stdout",
          "text": [
            "epoch  6\n"
          ]
        },
        {
          "output_type": "display_data",
          "data": {
            "image/png": "[encoded data removed]",
            "text/plain": [
              "<PIL.Image.Image image mode=L size=28x28 at 0x7F400C33D790>"
            ]
          },
          "metadata": {}
        },
        {
          "output_type": "display_data",
          "data": {
            "image/png": "[encoded data removed]",
            "text/plain": [
              "<PIL.Image.Image image mode=L size=28x28 at 0x7F3FD21BDE50>"
            ]
          },
          "metadata": {}
        },
        {
          "output_type": "display_data",
          "data": {
            "image/png": "[encoded data removed]",
            "text/plain": [
              "<PIL.Image.Image image mode=L size=28x28 at 0x7F400C34E090>"
            ]
          },
          "metadata": {}
        },
        {
          "output_type": "stream",
          "name": "stdout",
          "text": [
            "epoch  7\n"
          ]
        },
        {
          "output_type": "display_data",
          "data": {
            "image/png": "[encoded data removed]",
            "text/plain": [
              "<PIL.Image.Image image mode=L size=28x28 at 0x7F400C344850>"
            ]
          },
          "metadata": {}
        },
        {
          "output_type": "display_data",
          "data": {
            "image/png": "[encoded data removed]",
            "text/plain": [
              "<PIL.Image.Image image mode=L size=28x28 at 0x7F3FD21BDB90>"
            ]
          },
          "metadata": {}
        },
        {
          "output_type": "display_data",
          "data": {
            "image/png": "[encoded data removed]",
            "text/plain": [
              "<PIL.Image.Image image mode=L size=28x28 at 0x7F3FD21BDE10>"
            ]
          },
          "metadata": {}
        },
        {
          "output_type": "stream",
          "name": "stdout",
          "text": [
            "epoch  8\n"
          ]
        },
        {
          "output_type": "display_data",
          "data": {
            "image/png": "[encoded data removed]",
            "text/plain": [
              "<PIL.Image.Image image mode=L size=28x28 at 0x7F400C2EB250>"
            ]
          },
          "metadata": {}
        },
        {
          "output_type": "display_data",
          "data": {
            "image/png": "[encoded data removed]",
            "text/plain": [
              "<PIL.Image.Image image mode=L size=28x28 at 0x7F3FD21C6550>"
            ]
          },
          "metadata": {}
        },
        {
          "output_type": "display_data",
          "data": {
            "image/png": "[encoded data removed]",
            "text/plain": [
              "<PIL.Image.Image image mode=L size=28x28 at 0x7F3FD21C6FD0>"
            ]
          },
          "metadata": {}
        },
        {
          "output_type": "stream",
          "name": "stdout",
          "text": [
            "epoch  9\n"
          ]
        },
        {
          "output_type": "display_data",
          "data": {
            "image/png": "[encoded data removed]",
            "text/plain": [
              "<PIL.Image.Image image mode=L size=28x28 at 0x7F3FD21BDDD0>"
            ]
          },
          "metadata": {}
        },
        {
          "output_type": "display_data",
          "data": {
            "image/png": "[encoded data removed]",
            "text/plain": [
              "<PIL.Image.Image image mode=L size=28x28 at 0x7F3FD21CDE90>"
            ]
          },
          "metadata": {}
        },
        {
          "output_type": "display_data",
          "data": {
            "image/png": "[encoded data removed]",
            "text/plain": [
              "<PIL.Image.Image image mode=L size=28x28 at 0x7F3FD21CDB50>"
            ]
          },
          "metadata": {}
        },
        {
          "output_type": "stream",
          "name": "stdout",
          "text": [
            "epoch  10\n"
          ]
        },
        {
          "output_type": "display_data",
          "data": {
            "image/png": "[encoded data removed]",
            "text/plain": [
              "<PIL.Image.Image image mode=L size=28x28 at 0x7F400C32D550>"
            ]
          },
          "metadata": {}
        },
        {
          "output_type": "display_data",
          "data": {
            "image/png": "[encoded data removed]",
            "text/plain": [
              "<PIL.Image.Image image mode=L size=28x28 at 0x7F400C32DC50>"
            ]
          },
          "metadata": {}
        },
        {
          "output_type": "display_data",
          "data": {
            "image/png": "[encoded data removed]",
            "text/plain": [
              "<PIL.Image.Image image mode=L size=28x28 at 0x7F3FD21C6F10>"
            ]
          },
          "metadata": {}
        },
        {
          "output_type": "stream",
          "name": "stdout",
          "text": [
            "epoch  11\n"
          ]
        },
        {
          "output_type": "display_data",
          "data": {
            "image/png": "[encoded data removed]",
            "text/plain": [
              "<PIL.Image.Image image mode=L size=28x28 at 0x7F3FD21BDED0>"
            ]
          },
          "metadata": {}
        },
        {
          "output_type": "display_data",
          "data": {
            "image/png": "[encoded data removed]",
            "text/plain": [
              "<PIL.Image.Image image mode=L size=28x28 at 0x7F3FD21BD3D0>"
            ]
          },
          "metadata": {}
        },
        {
          "output_type": "display_data",
          "data": {
            "image/png": "[encoded data removed]",
            "text/plain": [
              "<PIL.Image.Image image mode=L size=28x28 at 0x7F400C32D990>"
            ]
          },
          "metadata": {}
        },
        {
          "output_type": "stream",
          "name": "stdout",
          "text": [
            "epoch  12\n"
          ]
        },
        {
          "output_type": "display_data",
          "data": {
            "image/png": "[encoded data removed]",
            "text/plain": [
              "<PIL.Image.Image image mode=L size=28x28 at 0x7F3FD21C6E90>"
            ]
          },
          "metadata": {}
        },
        {
          "output_type": "display_data",
          "data": {
            "image/png": "[encoded data removed]",
            "text/plain": [
              "<PIL.Image.Image image mode=L size=28x28 at 0x7F3FD21C6510>"
            ]
          },
          "metadata": {}
        },
        {
          "output_type": "display_data",
          "data": {
            "image/png": "[encoded data removed]",
            "text/plain": [
              "<PIL.Image.Image image mode=L size=28x28 at 0x7F3FD21C6F10>"
            ]
          },
          "metadata": {}
        },
        {
          "output_type": "stream",
          "name": "stdout",
          "text": [
            "epoch  13\n"
          ]
        },
        {
          "output_type": "display_data",
          "data": {
            "image/png": "[encoded data removed]",
            "text/plain": [
              "<PIL.Image.Image image mode=L size=28x28 at 0x7F3FD21C6FD0>"
            ]
          },
          "metadata": {}
        },
        {
          "output_type": "display_data",
          "data": {
            "image/png": "[encoded data removed]",
            "text/plain": [
              "<PIL.Image.Image image mode=L size=28x28 at 0x7F3FD21C6E90>"
            ]
          },
          "metadata": {}
        },
        {
          "output_type": "display_data",
          "data": {
            "image/png": "[encoded data removed]",
            "text/plain": [
              "<PIL.Image.Image image mode=L size=28x28 at 0x7F3FD21CD310>"
            ]
          },
          "metadata": {}
        },
        {
          "output_type": "stream",
          "name": "stdout",
          "text": [
            "epoch  14\n"
          ]
        },
        {
          "output_type": "display_data",
          "data": {
            "image/png": "[encoded data removed]",
            "text/plain": [
              "<PIL.Image.Image image mode=L size=28x28 at 0x7F400C32D690>"
            ]
          },
          "metadata": {}
        },
        {
          "output_type": "display_data",
          "data": {
            "image/png": "[encoded data removed]",
            "text/plain": [
              "<PIL.Image.Image image mode=L size=28x28 at 0x7F3FD21CC4D0>"
            ]
          },
          "metadata": {}
        },
        {
          "output_type": "display_data",
          "data": {
            "image/png": "[encoded data removed]",
            "text/plain": [
              "<PIL.Image.Image image mode=L size=28x28 at 0x7F3FD21CCC10>"
            ]
          },
          "metadata": {}
        },
        {
          "output_type": "stream",
          "name": "stdout",
          "text": [
            "epoch  15\n"
          ]
        },
        {
          "output_type": "display_data",
          "data": {
            "image/png": "[encoded data removed]",
            "text/plain": [
              "<PIL.Image.Image image mode=L size=28x28 at 0x7F3FD21C6FD0>"
            ]
          },
          "metadata": {}
        },
        {
          "output_type": "display_data",
          "data": {
            "image/png": "[encoded data removed]",
            "text/plain": [
              "<PIL.Image.Image image mode=L size=28x28 at 0x7F3FD21CD410>"
            ]
          },
          "metadata": {}
        },
        {
          "output_type": "display_data",
          "data": {
            "image/png": "[encoded data removed]",
            "text/plain": [
              "<PIL.Image.Image image mode=L size=28x28 at 0x7F3FD21CDB10>"
            ]
          },
          "metadata": {}
        },
        {
          "output_type": "stream",
          "name": "stdout",
          "text": [
            "epoch  16\n"
          ]
        },
        {
          "output_type": "display_data",
          "data": {
            "image/png": "[encoded data removed]",
            "text/plain": [
              "<PIL.Image.Image image mode=L size=28x28 at 0x7F3FD21CCC90>"
            ]
          },
          "metadata": {}
        },
        {
          "output_type": "display_data",
          "data": {
            "image/png": "[encoded data removed]",
            "text/plain": [
              "<PIL.Image.Image image mode=L size=28x28 at 0x7F3FD21CCBD0>"
            ]
          },
          "metadata": {}
        },
        {
          "output_type": "display_data",
          "data": {
            "image/png": "[encoded data removed]",
            "text/plain": [
              "<PIL.Image.Image image mode=L size=28x28 at 0x7F3FD21C6F10>"
            ]
          },
          "metadata": {}
        },
        {
          "output_type": "stream",
          "name": "stdout",
          "text": [
            "epoch  17\n"
          ]
        },
        {
          "output_type": "display_data",
          "data": {
            "image/png": "[encoded data removed]",
            "text/plain": [
              "<PIL.Image.Image image mode=L size=28x28 at 0x7F3FD21C6E90>"
            ]
          },
          "metadata": {}
        },
        {
          "output_type": "display_data",
          "data": {
            "image/png": "[encoded data removed]",
            "text/plain": [
              "<PIL.Image.Image image mode=L size=28x28 at 0x7F3FD21C6FD0>"
            ]
          },
          "metadata": {}
        },
        {
          "output_type": "display_data",
          "data": {
            "image/png": "[encoded data removed]",
            "text/plain": [
              "<PIL.Image.Image image mode=L size=28x28 at 0x7F3FD21C6ED0>"
            ]
          },
          "metadata": {}
        },
        {
          "output_type": "stream",
          "name": "stdout",
          "text": [
            "epoch  18\n"
          ]
        },
        {
          "output_type": "display_data",
          "data": {
            "image/png": "[encoded data removed]",
            "text/plain": [
              "<PIL.Image.Image image mode=L size=28x28 at 0x7F3FD21CDF90>"
            ]
          },
          "metadata": {}
        },
        {
          "output_type": "display_data",
          "data": {
            "image/png": "[encoded data removed]",
            "text/plain": [
              "<PIL.Image.Image image mode=L size=28x28 at 0x7F3FD21CC810>"
            ]
          },
          "metadata": {}
        },
        {
          "output_type": "display_data",
          "data": {
            "image/png": "[encoded data removed]",
            "text/plain": [
              "<PIL.Image.Image image mode=L size=28x28 at 0x7F3FD21C6CD0>"
            ]
          },
          "metadata": {}
        },
        {
          "output_type": "stream",
          "name": "stdout",
          "text": [
            "epoch  19\n"
          ]
        },
        {
          "output_type": "display_data",
          "data": {
            "image/png": "[encoded data removed]",
            "text/plain": [
              "<PIL.Image.Image image mode=L size=28x28 at 0x7F3FD21CC6D0>"
            ]
          },
          "metadata": {}
        },
        {
          "output_type": "display_data",
          "data": {
            "image/png": "[encoded data removed]",
            "text/plain": [
              "<PIL.Image.Image image mode=L size=28x28 at 0x7F3FD21CC3D0>"
            ]
          },
          "metadata": {}
        },
        {
          "output_type": "display_data",
          "data": {
            "image/png": "[encoded data removed]",
            "text/plain": [
              "<PIL.Image.Image image mode=L size=28x28 at 0x7F3FD21CCC50>"
            ]
          },
          "metadata": {}
        },
        {
          "output_type": "stream",
          "name": "stdout",
          "text": [
            "epoch  20\n"
          ]
        },
        {
          "output_type": "display_data",
          "data": {
            "image/png": "[encoded data removed]",
            "text/plain": [
              "<PIL.Image.Image image mode=L size=28x28 at 0x7F3FD21C6FD0>"
            ]
          },
          "metadata": {}
        },
        {
          "output_type": "display_data",
          "data": {
            "image/png": "[encoded data removed]",
            "text/plain": [
              "<PIL.Image.Image image mode=L size=28x28 at 0x7F3FD21D0410>"
            ]
          },
          "metadata": {}
        },
        {
          "output_type": "display_data",
          "data": {
            "image/png": "[encoded data removed]",
            "text/plain": [
              "<PIL.Image.Image image mode=L size=28x28 at 0x7F3FD21D0950>"
            ]
          },
          "metadata": {}
        },
        {
          "output_type": "stream",
          "name": "stdout",
          "text": [
            "epoch  21\n"
          ]
        },
        {
          "output_type": "display_data",
          "data": {
            "image/png": "[encoded data removed]",
            "text/plain": [
              "<PIL.Image.Image image mode=L size=28x28 at 0x7F3FD21CC190>"
            ]
          },
          "metadata": {}
        },
        {
          "output_type": "display_data",
          "data": {
            "image/png": "[encoded data removed]",
            "text/plain": [
              "<PIL.Image.Image image mode=L size=28x28 at 0x7F3FD21CC650>"
            ]
          },
          "metadata": {}
        },
        {
          "output_type": "display_data",
          "data": {
            "image/png": "[encoded data removed]",
            "text/plain": [
              "<PIL.Image.Image image mode=L size=28x28 at 0x7F3FD21D0B10>"
            ]
          },
          "metadata": {}
        },
        {
          "output_type": "stream",
          "name": "stdout",
          "text": [
            "epoch  22\n"
          ]
        },
        {
          "output_type": "display_data",
          "data": {
            "image/png": "[encoded data removed]",
            "text/plain": [
              "<PIL.Image.Image image mode=L size=28x28 at 0x7F3FD21CC0D0>"
            ]
          },
          "metadata": {}
        },
        {
          "output_type": "display_data",
          "data": {
            "image/png": "[encoded data removed]",
            "text/plain": [
              "<PIL.Image.Image image mode=L size=28x28 at 0x7F3FD21D0510>"
            ]
          },
          "metadata": {}
        },
        {
          "output_type": "display_data",
          "data": {
            "image/png": "[encoded data removed]",
            "text/plain": [
              "<PIL.Image.Image image mode=L size=28x28 at 0x7F3FD21D0810>"
            ]
          },
          "metadata": {}
        },
        {
          "output_type": "stream",
          "name": "stdout",
          "text": [
            "epoch  23\n"
          ]
        },
        {
          "output_type": "display_data",
          "data": {
            "image/png": "[encoded data removed]",
            "text/plain": [
              "<PIL.Image.Image image mode=L size=28x28 at 0x7F3FD21D07D0>"
            ]
          },
          "metadata": {}
        },
        {
          "output_type": "display_data",
          "data": {
            "image/png": "[encoded data removed]",
            "text/plain": [
              "<PIL.Image.Image image mode=L size=28x28 at 0x7F3FD21D0310>"
            ]
          },
          "metadata": {}
        },
        {
          "output_type": "display_data",
          "data": {
            "image/png": "[encoded data removed]",
            "text/plain": [
              "<PIL.Image.Image image mode=L size=28x28 at 0x7F3FD21D03D0>"
            ]
          },
          "metadata": {}
        },
        {
          "output_type": "stream",
          "name": "stdout",
          "text": [
            "epoch  24\n"
          ]
        },
        {
          "output_type": "display_data",
          "data": {
            "image/png": "[encoded data removed]",
            "text/plain": [
              "<PIL.Image.Image image mode=L size=28x28 at 0x7F3FD21D5950>"
            ]
          },
          "metadata": {}
        },
        {
          "output_type": "display_data",
          "data": {
            "image/png": "[encoded data removed]",
            "text/plain": [
              "<PIL.Image.Image image mode=L size=28x28 at 0x7F3FD21D5CD0>"
            ]
          },
          "metadata": {}
        },
        {
          "output_type": "display_data",
          "data": {
            "image/png": "[encoded data removed]",
            "text/plain": [
              "<PIL.Image.Image image mode=L size=28x28 at 0x7F3FD21D5950>"
            ]
          },
          "metadata": {}
        },
        {
          "output_type": "stream",
          "name": "stdout",
          "text": [
            "epoch  25\n"
          ]
        },
        {
          "output_type": "display_data",
          "data": {
            "image/png": "[encoded data removed]",
            "text/plain": [
              "<PIL.Image.Image image mode=L size=28x28 at 0x7F3FD21D0D50>"
            ]
          },
          "metadata": {}
        },
        {
          "output_type": "display_data",
          "data": {
            "image/png": "[encoded data removed]",
            "text/plain": [
              "<PIL.Image.Image image mode=L size=28x28 at 0x7F3FD21D0810>"
            ]
          },
          "metadata": {}
        },
        {
          "output_type": "display_data",
          "data": {
            "image/png": "[encoded data removed]",
            "text/plain": [
              "<PIL.Image.Image image mode=L size=28x28 at 0x7F3FD21D03D0>"
            ]
          },
          "metadata": {}
        },
        {
          "output_type": "stream",
          "name": "stdout",
          "text": [
            "epoch  26\n"
          ]
        },
        {
          "output_type": "display_data",
          "data": {
            "image/png": "[encoded data removed]",
            "text/plain": [
              "<PIL.Image.Image image mode=L size=28x28 at 0x7F3FD21D0510>"
            ]
          },
          "metadata": {}
        },
        {
          "output_type": "display_data",
          "data": {
            "image/png": "[encoded data removed]",
            "text/plain": [
              "<PIL.Image.Image image mode=L size=28x28 at 0x7F3FD21D57D0>"
            ]
          },
          "metadata": {}
        },
        {
          "output_type": "display_data",
          "data": {
            "image/png": "[encoded data removed]",
            "text/plain": [
              "<PIL.Image.Image image mode=L size=28x28 at 0x7F3FD21D5810>"
            ]
          },
          "metadata": {}
        },
        {
          "output_type": "stream",
          "name": "stdout",
          "text": [
            "epoch  27\n"
          ]
        },
        {
          "output_type": "display_data",
          "data": {
            "image/png": "[encoded data removed]",
            "text/plain": [
              "<PIL.Image.Image image mode=L size=28x28 at 0x7F3FD21D5690>"
            ]
          },
          "metadata": {}
        },
        {
          "output_type": "display_data",
          "data": {
            "image/png": "[encoded data removed]",
            "text/plain": [
              "<PIL.Image.Image image mode=L size=28x28 at 0x7F3FD21D5190>"
            ]
          },
          "metadata": {}
        },
        {
          "output_type": "display_data",
          "data": {
            "image/png": "[encoded data removed]",
            "text/plain": [
              "<PIL.Image.Image image mode=L size=28x28 at 0x7F3FD21D00D0>"
            ]
          },
          "metadata": {}
        },
        {
          "output_type": "stream",
          "name": "stdout",
          "text": [
            "epoch  28\n"
          ]
        },
        {
          "output_type": "display_data",
          "data": {
            "image/png": "[encoded data removed]",
            "text/plain": [
              "<PIL.Image.Image image mode=L size=28x28 at 0x7F3FD21D69D0>"
            ]
          },
          "metadata": {}
        },
        {
          "output_type": "display_data",
          "data": {
            "image/png": "[encoded data removed]",
            "text/plain": [
              "<PIL.Image.Image image mode=L size=28x28 at 0x7F3FD21D6A90>"
            ]
          },
          "metadata": {}
        },
        {
          "output_type": "display_data",
          "data": {
            "image/png": "[encoded data removed]",
            "text/plain": [
              "<PIL.Image.Image image mode=L size=28x28 at 0x7F3FD21D6E50>"
            ]
          },
          "metadata": {}
        }
      ]
    },
    {
      "cell_type": "markdown",
      "metadata": {
        "id": "DmuO0JRbwymo"
      },
      "source": [
        "#Bài tập\n",
        "1. Dụa vào mô hình GAN ở trên hãy tạo ra một mô hình DCGAN và train trên tập Mnist\n",
        "\n",
        "2. Sau khi train xong hãy viết một hàm sao cho khi đưa vào 4 lattent random vectors thì mô hình sẽ tạo ra 4 samples"
      ]
    },
    {
      "cell_type": "code",
      "metadata": {
        "id": "x81KyGJrAjy3",
        "colab": {
          "base_uri": "https://localhost:8080/"
        },
        "outputId": "fff8a6e8-95c6-42ba-f77c-bc8421e4d24e"
      },
      "source": [
        "#Generator"
      ],
      "execution_count": null,
      "outputs": [
        {
          "output_type": "stream",
          "name": "stdout",
          "text": [
            "Model: \"model_6\"\n",
            "__________________________________________________________________________________________________\n",
            " Layer (type)                   Output Shape         Param #     Connected to                     \n",
            "==================================================================================================\n",
            " input_16 (InputLayer)          [(None, 100)]        0           []                               \n",
            "                                                                                                  \n",
            " input_15 (InputLayer)          [(None, 10)]         0           []                               \n",
            "                                                                                                  \n",
            " dense_23 (Dense)               (None, 12544)        1254400     ['input_16[0][0]']               \n",
            "                                                                                                  \n",
            " dense_22 (Dense)               (None, 49)           539         ['input_15[0][0]']               \n",
            "                                                                                                  \n",
            " reshape_11 (Reshape)           (None, 7, 7, 256)    0           ['dense_23[0][0]']               \n",
            "                                                                                                  \n",
            " reshape_10 (Reshape)           (None, 7, 7, 1)      0           ['dense_22[0][0]']               \n",
            "                                                                                                  \n",
            " concatenate_6 (Concatenate)    (None, 7, 7, 257)    0           ['reshape_11[0][0]',             \n",
            "                                                                  'reshape_10[0][0]']             \n",
            "                                                                                                  \n",
            " batch_normalization_8 (BatchNo  (None, 7, 7, 257)   1028        ['concatenate_6[0][0]']          \n",
            " rmalization)                                                                                     \n",
            "                                                                                                  \n",
            " conv2d_transpose_6 (Conv2DTran  (None, 7, 7, 128)   822400      ['batch_normalization_8[0][0]']  \n",
            " spose)                                                                                           \n",
            "                                                                                                  \n",
            " batch_normalization_9 (BatchNo  (None, 7, 7, 128)   512         ['conv2d_transpose_6[0][0]']     \n",
            " rmalization)                                                                                     \n",
            "                                                                                                  \n",
            " leaky_re_lu_17 (LeakyReLU)     (None, 7, 7, 128)    0           ['batch_normalization_9[0][0]']  \n",
            "                                                                                                  \n",
            " conv2d_transpose_7 (Conv2DTran  (None, 14, 14, 64)  204800      ['leaky_re_lu_17[0][0]']         \n",
            " spose)                                                                                           \n",
            "                                                                                                  \n",
            " batch_normalization_10 (BatchN  (None, 14, 14, 64)  256         ['conv2d_transpose_7[0][0]']     \n",
            " ormalization)                                                                                    \n",
            "                                                                                                  \n",
            " leaky_re_lu_18 (LeakyReLU)     (None, 14, 14, 64)   0           ['batch_normalization_10[0][0]'] \n",
            "                                                                                                  \n",
            " conv2d_transpose_8 (Conv2DTran  (None, 28, 28, 1)   1600        ['leaky_re_lu_18[0][0]']         \n",
            " spose)                                                                                           \n",
            "                                                                                                  \n",
            " reshape_12 (Reshape)           (None, 28, 28, 1)    0           ['conv2d_transpose_8[0][0]']     \n",
            "                                                                                                  \n",
            "==================================================================================================\n",
            "Total params: 2,285,535\n",
            "Trainable params: 2,284,637\n",
            "Non-trainable params: 898\n",
            "__________________________________________________________________________________________________\n"
          ]
        }
      ]
    },
    {
      "cell_type": "code",
      "metadata": {
        "colab": {
          "base_uri": "https://localhost:8080/"
        },
        "id": "eDdtS04I7nOj",
        "outputId": "710df8e3-efd0-4a28-d17b-e28a84990576"
      },
      "source": [
        "#Discriminator"
      ],
      "execution_count": null,
      "outputs": [
        {
          "output_type": "stream",
          "name": "stdout",
          "text": [
            "Model: \"model_7\"\n",
            "__________________________________________________________________________________________________\n",
            " Layer (type)                   Output Shape         Param #     Connected to                     \n",
            "==================================================================================================\n",
            " input_17 (InputLayer)          [(None, 10)]         0           []                               \n",
            "                                                                                                  \n",
            " dense_24 (Dense)               (None, 784)          8624        ['input_17[0][0]']               \n",
            "                                                                                                  \n",
            " input_18 (InputLayer)          [(None, 28, 28, 1)]  0           []                               \n",
            "                                                                                                  \n",
            " reshape_13 (Reshape)           (None, 28, 28, 1)    0           ['dense_24[0][0]']               \n",
            "                                                                                                  \n",
            " concatenate_7 (Concatenate)    (None, 28, 28, 2)    0           ['input_18[0][0]',               \n",
            "                                                                  'reshape_13[0][0]']             \n",
            "                                                                                                  \n",
            " conv2d_8 (Conv2D)              (None, 14, 14, 64)   3264        ['concatenate_7[0][0]']          \n",
            "                                                                                                  \n",
            " leaky_re_lu_19 (LeakyReLU)     (None, 14, 14, 64)   0           ['conv2d_8[0][0]']               \n",
            "                                                                                                  \n",
            " conv2d_9 (Conv2D)              (None, 7, 7, 128)    204928      ['leaky_re_lu_19[0][0]']         \n",
            "                                                                                                  \n",
            " leaky_re_lu_20 (LeakyReLU)     (None, 7, 7, 128)    0           ['conv2d_9[0][0]']               \n",
            "                                                                                                  \n",
            " flatten_5 (Flatten)            (None, 6272)         0           ['leaky_re_lu_20[0][0]']         \n",
            "                                                                                                  \n",
            " dense_25 (Dense)               (None, 1)            6273        ['flatten_5[0][0]']              \n",
            "                                                                                                  \n",
            "==================================================================================================\n",
            "Total params: 223,089\n",
            "Trainable params: 223,089\n",
            "Non-trainable params: 0\n",
            "__________________________________________________________________________________________________\n"
          ]
        }
      ]
    },
    {
      "cell_type": "code",
      "metadata": {
        "id": "pbhoEnlq7oK6"
      },
      "source": [
        ""
      ],
      "execution_count": null,
      "outputs": []
    }
  ]
}
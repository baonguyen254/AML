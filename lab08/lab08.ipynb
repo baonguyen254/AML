{
  "nbformat": 4,
  "nbformat_minor": 0,
  "metadata": {
    "colab": {
      "name": "lab07",
      "provenance": [],
      "collapsed_sections": []
    },
    "kernelspec": {
      "name": "python3",
      "display_name": "Python 3"
    },
    "language_info": {
      "name": "python"
    },
    "accelerator": "GPU"
  },
  "cells": [
    {
      "cell_type": "code",
      "metadata": {
        "id": "TQVJKgYeiv1v"
      },
      "source": [
        "import tensorflow as tf\n",
        "from tensorflow import keras\n",
        "from tensorflow.keras import layers\n",
        "import numpy as np"
      ],
      "execution_count": 11,
      "outputs": []
    },
    {
      "cell_type": "code",
      "metadata": {
        "id": "p1BqcJT97nDv"
      },
      "source": [
        "batch_size = 128 # batch size để đưa vào mô hình huấn luyện\n",
        "(x_train, y_train), (x_test, y_test) = keras.datasets.mnist.load_data() #đọc dữ liệu\n",
        "all_digits = np.concatenate([x_train, x_test]) \n",
        "labels = np.concatenate([y_train,y_test])\n",
        "all_digits = (all_digits.astype(\"float32\")-127.5) / 127.5 #đưa tấm hình về [-1,1]\n",
        "all_digits = np.reshape(all_digits,(-1,28,28,1)) #reshape toàn bộ dữ liệu lại\n",
        "all_digits = tf.data.Dataset.from_tensor_slices(all_digits) #Đưa dữ liệu về dạng tensor\n",
        "\n",
        "from sklearn.preprocessing import OneHotEncoder\n",
        "onehot_encoder = OneHotEncoder(sparse=False)\n",
        "onehot_encoder.fit(np.reshape(np.array(range(0,10)),[-1,1]))\n",
        "onehot_encoded = onehot_encoder.transform(np.reshape(labels,[-1,1]))\n",
        "all_labels = tf.data.Dataset.from_tensor_slices(onehot_encoded)\n",
        "\n",
        "dataset = tf.data.Dataset.zip((all_digits, all_labels))\n",
        "dataset = dataset.shuffle(buffer_size=1024).batch(batch_size).prefetch(32) #shuffle dữ liệu mỗi lần đưa vào mô hình"
      ],
      "execution_count": 12,
      "outputs": []
    },
    {
      "cell_type": "code",
      "metadata": {
        "colab": {
          "base_uri": "https://localhost:8080/"
        },
        "id": "5oTN8JmSBFLk",
        "outputId": "a91236e9-7781-4d14-e936-bda09644542a"
      },
      "source": [
        "#Mô hình mạng discriminator\n",
        "Input = tf.keras.layers.Input(shape=(28, 28, 1))\n",
        "Label = tf.keras.layers.Input(shape=(10,))\n",
        "\n",
        "LabelDense = tf.keras.layers.Dense(50)(Label)\n",
        "LabelDense = tf.keras.layers.Dense(28*28)(LabelDense)\n",
        "LabelDense = tf.keras.layers.Reshape((28,28,1))(LabelDense)\n",
        "\n",
        "Discriminator = tf.keras.layers.Concatenate()([Input, LabelDense])\n",
        "Discriminator = tf.keras.layers.BatchNormalization()(Discriminator)\n",
        "Discriminator = tf.keras.layers.Flatten()(Discriminator)\n",
        "\n",
        "Discriminator = tf.keras.layers.Dense(units=1024)(Discriminator)\n",
        "Discriminator = tf.keras.layers.LeakyReLU(alpha=0.2)(Discriminator)\n",
        "Discriminator = tf.keras.layers.Dropout(0.3)(Discriminator)\n",
        "\n",
        "Discriminator = tf.keras.layers.Dense(units=512)(Discriminator)\n",
        "Discriminator = tf.keras.layers.LeakyReLU(alpha=0.2)(Discriminator)\n",
        "Discriminator = tf.keras.layers.Dropout(0.3)(Discriminator)\n",
        "\n",
        "Discriminator = tf.keras.layers.Dense(units=256)(Discriminator)\n",
        "Discriminator = tf.keras.layers.LeakyReLU(alpha=0.2)(Discriminator)\n",
        "Discriminator = tf.keras.layers.Dropout(0.3)(Discriminator)\n",
        "\n",
        "Discriminator = tf.keras.layers.Dense(units=1, activation=\"sigmoid\")(Discriminator)\n",
        "\n",
        "discriminator = tf.keras.models.Model(inputs=[Input, Label], outputs=Discriminator)\n",
        "\n",
        "discriminator.summary()\n"
      ],
      "execution_count": 13,
      "outputs": [
        {
          "output_type": "stream",
          "name": "stdout",
          "text": [
            "Model: \"model_2\"\n",
            "__________________________________________________________________________________________________\n",
            " Layer (type)                   Output Shape         Param #     Connected to                     \n",
            "==================================================================================================\n",
            " input_6 (InputLayer)           [(None, 10)]         0           []                               \n",
            "                                                                                                  \n",
            " dense_12 (Dense)               (None, 50)           550         ['input_6[0][0]']                \n",
            "                                                                                                  \n",
            " dense_13 (Dense)               (None, 784)          39984       ['dense_12[0][0]']               \n",
            "                                                                                                  \n",
            " input_5 (InputLayer)           [(None, 28, 28, 1)]  0           []                               \n",
            "                                                                                                  \n",
            " reshape_2 (Reshape)            (None, 28, 28, 1)    0           ['dense_13[0][0]']               \n",
            "                                                                                                  \n",
            " concatenate_2 (Concatenate)    (None, 28, 28, 2)    0           ['input_5[0][0]',                \n",
            "                                                                  'reshape_2[0][0]']              \n",
            "                                                                                                  \n",
            " batch_normalization_2 (BatchNo  (None, 28, 28, 2)   8           ['concatenate_2[0][0]']          \n",
            " rmalization)                                                                                     \n",
            "                                                                                                  \n",
            " flatten_1 (Flatten)            (None, 1568)         0           ['batch_normalization_2[0][0]']  \n",
            "                                                                                                  \n",
            " dense_14 (Dense)               (None, 1024)         1606656     ['flatten_1[0][0]']              \n",
            "                                                                                                  \n",
            " leaky_re_lu_5 (LeakyReLU)      (None, 1024)         0           ['dense_14[0][0]']               \n",
            "                                                                                                  \n",
            " dropout_3 (Dropout)            (None, 1024)         0           ['leaky_re_lu_5[0][0]']          \n",
            "                                                                                                  \n",
            " dense_15 (Dense)               (None, 512)          524800      ['dropout_3[0][0]']              \n",
            "                                                                                                  \n",
            " leaky_re_lu_6 (LeakyReLU)      (None, 512)          0           ['dense_15[0][0]']               \n",
            "                                                                                                  \n",
            " dropout_4 (Dropout)            (None, 512)          0           ['leaky_re_lu_6[0][0]']          \n",
            "                                                                                                  \n",
            " dense_16 (Dense)               (None, 256)          131328      ['dropout_4[0][0]']              \n",
            "                                                                                                  \n",
            " leaky_re_lu_7 (LeakyReLU)      (None, 256)          0           ['dense_16[0][0]']               \n",
            "                                                                                                  \n",
            " dropout_5 (Dropout)            (None, 256)          0           ['leaky_re_lu_7[0][0]']          \n",
            "                                                                                                  \n",
            " dense_17 (Dense)               (None, 1)            257         ['dropout_5[0][0]']              \n",
            "                                                                                                  \n",
            "==================================================================================================\n",
            "Total params: 2,303,583\n",
            "Trainable params: 2,303,579\n",
            "Non-trainable params: 4\n",
            "__________________________________________________________________________________________________\n"
          ]
        }
      ]
    },
    {
      "cell_type": "code",
      "metadata": {
        "colab": {
          "base_uri": "https://localhost:8080/"
        },
        "id": "vSQLY6nyjD1j",
        "outputId": "c38f4b15-732c-4db4-8bf8-ab6dd9440144"
      },
      "source": [
        "#mô hình của mạng Generator\n",
        "latten_dim = 100\n",
        "\n",
        "Input = tf.keras.layers.Input(shape=(latten_dim,))\n",
        "Label = tf.keras.layers.Input(shape=(10,))\n",
        "\n",
        "LabelDense = tf.keras.layers.Dense(50)(Label)\n",
        "LabelDense = tf.keras.layers.Dense(256)(LabelDense)\n",
        "\n",
        "Generator = tf.keras.layers.Dense(units=256)(Input)\n",
        "Generator = tf.keras.layers.Concatenate()([Generator, LabelDense])\n",
        "\n",
        "Generator = tf.keras.layers.Dense(units=512)(Generator)\n",
        "Generator = tf.keras.layers.LeakyReLU(alpha=0.2)(Generator)\n",
        "\n",
        "Generator = tf.keras.layers.Dense(units=1024)(Generator)\n",
        "Generator = tf.keras.layers.LeakyReLU(alpha=0.2)(Generator)\n",
        "\n",
        "Generator = tf.keras.layers.Dense(units=28*28)(Generator)\n",
        "Generator = tf.keras.layers.Activation(activation=\"tanh\",name=\"tanh\")(Generator)  #Đưa về một tấm ảnh nên dùng tanh để về [-1,1]\n",
        "\n",
        "Generator = tf.keras.layers.Reshape((28,28,1))(Generator)\n",
        "Generator = tf.keras.layers.BatchNormalization()(Generator)\n",
        "\n",
        "generator = tf.keras.models.Model(inputs=[Input, Label], outputs=Generator)\n",
        "\n",
        "\n",
        "generator.summary()\n",
        "\n",
        "\n"
      ],
      "execution_count": 14,
      "outputs": [
        {
          "output_type": "stream",
          "name": "stdout",
          "text": [
            "Model: \"model_3\"\n",
            "__________________________________________________________________________________________________\n",
            " Layer (type)                   Output Shape         Param #     Connected to                     \n",
            "==================================================================================================\n",
            " input_8 (InputLayer)           [(None, 10)]         0           []                               \n",
            "                                                                                                  \n",
            " input_7 (InputLayer)           [(None, 100)]        0           []                               \n",
            "                                                                                                  \n",
            " dense_18 (Dense)               (None, 50)           550         ['input_8[0][0]']                \n",
            "                                                                                                  \n",
            " dense_20 (Dense)               (None, 256)          25856       ['input_7[0][0]']                \n",
            "                                                                                                  \n",
            " dense_19 (Dense)               (None, 256)          13056       ['dense_18[0][0]']               \n",
            "                                                                                                  \n",
            " concatenate_3 (Concatenate)    (None, 512)          0           ['dense_20[0][0]',               \n",
            "                                                                  'dense_19[0][0]']               \n",
            "                                                                                                  \n",
            " dense_21 (Dense)               (None, 512)          262656      ['concatenate_3[0][0]']          \n",
            "                                                                                                  \n",
            " leaky_re_lu_8 (LeakyReLU)      (None, 512)          0           ['dense_21[0][0]']               \n",
            "                                                                                                  \n",
            " dense_22 (Dense)               (None, 1024)         525312      ['leaky_re_lu_8[0][0]']          \n",
            "                                                                                                  \n",
            " leaky_re_lu_9 (LeakyReLU)      (None, 1024)         0           ['dense_22[0][0]']               \n",
            "                                                                                                  \n",
            " dense_23 (Dense)               (None, 784)          803600      ['leaky_re_lu_9[0][0]']          \n",
            "                                                                                                  \n",
            " tanh (Activation)              (None, 784)          0           ['dense_23[0][0]']               \n",
            "                                                                                                  \n",
            " reshape_3 (Reshape)            (None, 28, 28, 1)    0           ['tanh[0][0]']                   \n",
            "                                                                                                  \n",
            " batch_normalization_3 (BatchNo  (None, 28, 28, 1)   4           ['reshape_3[0][0]']              \n",
            " rmalization)                                                                                     \n",
            "                                                                                                  \n",
            "==================================================================================================\n",
            "Total params: 1,631,034\n",
            "Trainable params: 1,631,032\n",
            "Non-trainable params: 2\n",
            "__________________________________________________________________________________________________\n"
          ]
        }
      ]
    },
    {
      "cell_type": "code",
      "metadata": {
        "id": "_iGynypejHsj"
      },
      "source": [
        "class Gan(keras.Model):\n",
        "    def __init__(self, discriminator, generator, latent_dim):\n",
        "        super(Gan,self).__init__()\n",
        "        self.discriminator=discriminator \n",
        "        self.generator=generator\n",
        "        self.latent_dim=latent_dim\n",
        "    def compile(self, d_optimizer, g_optimizer, loss_function):\n",
        "        super(Gan,self).compile()\n",
        "        self.d_optimizer=d_optimizer\n",
        "        self.g_optimizer=g_optimizer\n",
        "        self.loss_function=loss_function \n",
        "    def train_step(self, real_images):\n",
        "        # tạo batch size từ dữ liệu đầu vào\n",
        "        batch_size = tf.shape(real_images[0])[0]\n",
        "        CLabel = real_images[1] \n",
        "        random_latent_vectors = tf.random.normal(shape=(batch_size, self.latent_dim)) #tạo noises theo phân phối chuẩn\n",
        "\n",
        "        # Tạo ra ảnh giả từ mạng generator\n",
        "        generated_images = self.generator([random_latent_vectors ,CLabel])\n",
        "\n",
        "        # nối ảnh giả và ảnh thật làm bộ dữ liệu cho mô hình discriminator\n",
        "        combined_images = tf.concat([generated_images, real_images[0]], axis=0)\n",
        "        combined_CLabel = tf.concat([CLabel, CLabel], axis=0)\n",
        "        # Ở đây đánh nhãn ảnh thật là 0, ảnh giả là 1\n",
        "        labels = tf.concat(\n",
        "            [tf.ones((batch_size, 1)), tf.zeros((batch_size, 1))], axis=0\n",
        "        )\n",
        "        # trick để add thêm noise cho nhãn\n",
        "        labels += 0.05 * tf.random.uniform(tf.shape(labels))\n",
        "\n",
        "        # huấn luyện discriminator\n",
        "        with tf.GradientTape() as tape:\n",
        "            predictions = self.discriminator([combined_images, combined_CLabel]) #Dự đoán \n",
        "            d_loss = self.loss_function(labels, predictions)  #Đưa kết quả dự đoán và grouth-truth vào hàm loss\n",
        "        grads = tape.gradient(d_loss, self.discriminator.trainable_weights)\n",
        "        self.d_optimizer.apply_gradients(\n",
        "            zip(grads, self.discriminator.trainable_weights)\n",
        "        ) #cập nhật weights cho mô hình discrimunator\n",
        "\n",
        "\n",
        "        # lặp lại bước tạo noise như ở trên\n",
        "        random_latent_vectors = tf.random.normal(shape=(batch_size, self.latent_dim))\n",
        "\n",
        "        # tạo mộ bộ nhãn sao cho đều là 0 để đánh lừa discriminator\n",
        "        misleading_labels = tf.zeros((batch_size, 1))\n",
        "\n",
        "        # Train generator (lưu ý k update weights cho discriminator)\n",
        "        with tf.GradientTape() as tape:\n",
        "            predictions = self.discriminator([self.generator([random_latent_vectors, CLabel]), CLabel])\n",
        "            g_loss = self.loss_function(misleading_labels, predictions)\n",
        "        grads = tape.gradient(g_loss, self.generator.trainable_weights)\n",
        "        self.g_optimizer.apply_gradients(zip(grads, self.generator.trainable_weights))\n",
        "        return {\"d_loss\": d_loss, \"g_loss\": g_loss}\n",
        "\n"
      ],
      "execution_count": 15,
      "outputs": []
    },
    {
      "cell_type": "code",
      "metadata": {
        "id": "G5pYMGsljL2S"
      },
      "source": [
        "#overwrite callback để lúc huấn luyện xem ảnh in ra\n",
        "from IPython.display import Image, display\n",
        "class GANMonitor(keras.callbacks.Callback):\n",
        "    def __init__(self, num_img=3, latent_dim=100):\n",
        "        self.num_img = num_img\n",
        "        self.latent_dim = latent_dim\n",
        "\n",
        "    def on_epoch_end(self, epoch, logs=None):\n",
        "        random_latent_vectors = tf.random.normal(shape=(self.num_img, self.latent_dim)) #Tạo noises\n",
        "        labels=tf.constant([[1,0,0,0,0,0,0,0,0,0],\n",
        "                           [0,1,0,0,0,0,0,0,0,0],\n",
        "                           [0,0,1,0,0,0,0,0,0,0]])\n",
        "        generated_images = self.model.generator([random_latent_vectors,labels]) #tạo ảnh\n",
        "        generated_images = generated_images*127.5+127.5 #Đưa ảnh về [0,255]\n",
        "        generated_images.numpy() \n",
        "        print(\"epoch \",epoch)\n",
        "        for i in range(self.num_img):\n",
        "            img = keras.preprocessing.image.array_to_img(generated_images[i])\n",
        "            display(img) #in ảnh"
      ],
      "execution_count": 16,
      "outputs": []
    },
    {
      "cell_type": "code",
      "metadata": {
        "colab": {
          "base_uri": "https://localhost:8080/",
          "height": 1000
        },
        "id": "Bv10iNgwjQKh",
        "outputId": "341ade5c-082c-4317-dbec-d7de1113cfce"
      },
      "source": [
        "epochs = 30 #số epochs\n",
        "latent_dim =100 #số chiều cho noises\n",
        "gan = Gan(discriminator=discriminator, generator=generator, latent_dim=latent_dim)\n",
        "gan.compile(\n",
        "    d_optimizer=keras.optimizers.Adam(learning_rate=0.0003,beta_1=0.5), \n",
        "    g_optimizer=keras.optimizers.Adam(learning_rate=0.0003,beta_1=0.5),\n",
        "    loss_function=keras.losses.BinaryCrossentropy(),\n",
        ")\n",
        "\n",
        "gan.fit(\n",
        "    dataset, epochs=epochs, callbacks=[GANMonitor(num_img=3, latent_dim=latent_dim)],verbose=0\n",
        "    )"
      ],
      "execution_count": null,
      "outputs": [
        {
          "output_type": "stream",
          "name": "stdout",
          "text": [
            "epoch  0\n"
          ]
        },
        {
          "output_type": "display_data",
          "data": {
            "image/png": "[encoded data removed]",
            "text/plain": [
              "<PIL.Image.Image image mode=L size=28x28 at 0x7F86D5A5CFD0>"
            ]
          },
          "metadata": {}
        },
        {
          "output_type": "display_data",
          "data": {
            "image/png": "[encoded data removed]",
            "text/plain": [
              "<PIL.Image.Image image mode=L size=28x28 at 0x7F86D5A79590>"
            ]
          },
          "metadata": {}
        },
        {
          "output_type": "display_data",
          "data": {
            "image/png": "[encoded data removed]",
            "text/plain": [
              "<PIL.Image.Image image mode=L size=28x28 at 0x7F86D5A5C090>"
            ]
          },
          "metadata": {}
        },
        {
          "output_type": "stream",
          "name": "stdout",
          "text": [
            "epoch  1\n"
          ]
        },
        {
          "output_type": "display_data",
          "data": {
            "image/png": "[encoded data removed]",
            "text/plain": [
              "<PIL.Image.Image image mode=L size=28x28 at 0x7F86D5A79310>"
            ]
          },
          "metadata": {}
        },
        {
          "output_type": "display_data",
          "data": {
            "image/png": "[encoded data removed]",
            "text/plain": [
              "<PIL.Image.Image image mode=L size=28x28 at 0x7F86D6E4DD90>"
            ]
          },
          "metadata": {}
        },
        {
          "output_type": "display_data",
          "data": {
            "image/png": "[encoded data removed]",
            "text/plain": [
              "<PIL.Image.Image image mode=L size=28x28 at 0x7F87141BF110>"
            ]
          },
          "metadata": {}
        },
        {
          "output_type": "stream",
          "name": "stdout",
          "text": [
            "epoch  2\n"
          ]
        },
        {
          "output_type": "display_data",
          "data": {
            "image/png": "[encoded data removed]",
            "text/plain": [
              "<PIL.Image.Image image mode=L size=28x28 at 0x7F87141BF110>"
            ]
          },
          "metadata": {}
        },
        {
          "output_type": "display_data",
          "data": {
            "image/png": "[encoded data removed]",
            "text/plain": [
              "<PIL.Image.Image image mode=L size=28x28 at 0x7F86F1FD3E90>"
            ]
          },
          "metadata": {}
        },
        {
          "output_type": "display_data",
          "data": {
            "image/png": "[encoded data removed]",
            "text/plain": [
              "<PIL.Image.Image image mode=L size=28x28 at 0x7F87144518D0>"
            ]
          },
          "metadata": {}
        },
        {
          "output_type": "stream",
          "name": "stdout",
          "text": [
            "epoch  3\n"
          ]
        },
        {
          "output_type": "display_data",
          "data": {
            "image/png": "[encoded data removed]",
            "text/plain": [
              "<PIL.Image.Image image mode=L size=28x28 at 0x7F8714064C50>"
            ]
          },
          "metadata": {}
        },
        {
          "output_type": "display_data",
          "data": {
            "image/png": "[encoded data removed]",
            "text/plain": [
              "<PIL.Image.Image image mode=L size=28x28 at 0x7F86D5A60710>"
            ]
          },
          "metadata": {}
        },
        {
          "output_type": "display_data",
          "data": {
            "image/png": "[encoded data removed]",
            "text/plain": [
              "<PIL.Image.Image image mode=L size=28x28 at 0x7F87141BA4D0>"
            ]
          },
          "metadata": {}
        },
        {
          "output_type": "stream",
          "name": "stdout",
          "text": [
            "epoch  4\n"
          ]
        },
        {
          "output_type": "display_data",
          "data": {
            "image/png": "[encoded data removed]",
            "text/plain": [
              "<PIL.Image.Image image mode=L size=28x28 at 0x7F86D5AE7750>"
            ]
          },
          "metadata": {}
        },
        {
          "output_type": "display_data",
          "data": {
            "image/png": "[encoded data removed]",
            "text/plain": [
              "<PIL.Image.Image image mode=L size=28x28 at 0x7F87141BA550>"
            ]
          },
          "metadata": {}
        },
        {
          "output_type": "display_data",
          "data": {
            "image/png": "[encoded data removed]",
            "text/plain": [
              "<PIL.Image.Image image mode=L size=28x28 at 0x7F87140A3F10>"
            ]
          },
          "metadata": {}
        },
        {
          "output_type": "stream",
          "name": "stdout",
          "text": [
            "epoch  5\n"
          ]
        },
        {
          "output_type": "display_data",
          "data": {
            "image/png": "[encoded data removed]",
            "text/plain": [
              "<PIL.Image.Image image mode=L size=28x28 at 0x7F87141BA810>"
            ]
          },
          "metadata": {}
        },
        {
          "output_type": "display_data",
          "data": {
            "image/png": "[encoded data removed]",
            "text/plain": [
              "<PIL.Image.Image image mode=L size=28x28 at 0x7F87140A3D10>"
            ]
          },
          "metadata": {}
        },
        {
          "output_type": "display_data",
          "data": {
            "image/png": "[encoded data removed]",
            "text/plain": [
              "<PIL.Image.Image image mode=L size=28x28 at 0x7F87141BA550>"
            ]
          },
          "metadata": {}
        },
        {
          "output_type": "stream",
          "name": "stdout",
          "text": [
            "epoch  6\n"
          ]
        },
        {
          "output_type": "display_data",
          "data": {
            "image/png": "[encoded data removed]",
            "text/plain": [
              "<PIL.Image.Image image mode=L size=28x28 at 0x7F86D5A9B490>"
            ]
          },
          "metadata": {}
        },
        {
          "output_type": "display_data",
          "data": {
            "image/png": "[encoded data removed]",
            "text/plain": [
              "<PIL.Image.Image image mode=L size=28x28 at 0x7F87141BA4D0>"
            ]
          },
          "metadata": {}
        },
        {
          "output_type": "display_data",
          "data": {
            "image/png": "[encoded data removed]",
            "text/plain": [
              "<PIL.Image.Image image mode=L size=28x28 at 0x7F87141BF110>"
            ]
          },
          "metadata": {}
        },
        {
          "output_type": "stream",
          "name": "stdout",
          "text": [
            "epoch  7\n"
          ]
        },
        {
          "output_type": "display_data",
          "data": {
            "image/png": "[encoded data removed]",
            "text/plain": [
              "<PIL.Image.Image image mode=L size=28x28 at 0x7F86D6B56F50>"
            ]
          },
          "metadata": {}
        },
        {
          "output_type": "display_data",
          "data": {
            "image/png": "[encoded data removed]",
            "text/plain": [
              "<PIL.Image.Image image mode=L size=28x28 at 0x7F86D5A9B490>"
            ]
          },
          "metadata": {}
        },
        {
          "output_type": "display_data",
          "data": {
            "image/png": "[encoded data removed]",
            "text/plain": [
              "<PIL.Image.Image image mode=L size=28x28 at 0x7F87141BA490>"
            ]
          },
          "metadata": {}
        },
        {
          "output_type": "stream",
          "name": "stdout",
          "text": [
            "epoch  8\n"
          ]
        },
        {
          "output_type": "display_data",
          "data": {
            "image/png": "[encoded data removed]",
            "text/plain": [
              "<PIL.Image.Image image mode=L size=28x28 at 0x7F87140A4610>"
            ]
          },
          "metadata": {}
        },
        {
          "output_type": "display_data",
          "data": {
            "image/png": "[encoded data removed]",
            "text/plain": [
              "<PIL.Image.Image image mode=L size=28x28 at 0x7F87141BA550>"
            ]
          },
          "metadata": {}
        },
        {
          "output_type": "display_data",
          "data": {
            "image/png": "[encoded data removed]",
            "text/plain": [
              "<PIL.Image.Image image mode=L size=28x28 at 0x7F86D5A9B490>"
            ]
          },
          "metadata": {}
        },
        {
          "output_type": "stream",
          "name": "stdout",
          "text": [
            "epoch  9\n"
          ]
        },
        {
          "output_type": "display_data",
          "data": {
            "image/png": "[encoded data removed]",
            "text/plain": [
              "<PIL.Image.Image image mode=L size=28x28 at 0x7F86D5A7FF90>"
            ]
          },
          "metadata": {}
        },
        {
          "output_type": "display_data",
          "data": {
            "image/png": "[encoded data removed]",
            "text/plain": [
              "<PIL.Image.Image image mode=L size=28x28 at 0x7F87140A4710>"
            ]
          },
          "metadata": {}
        },
        {
          "output_type": "display_data",
          "data": {
            "image/png": "[encoded data removed]",
            "text/plain": [
              "<PIL.Image.Image image mode=L size=28x28 at 0x7F87140A4F10>"
            ]
          },
          "metadata": {}
        },
        {
          "output_type": "stream",
          "name": "stdout",
          "text": [
            "epoch  10\n"
          ]
        },
        {
          "output_type": "display_data",
          "data": {
            "image/png": "[encoded data removed]",
            "text/plain": [
              "<PIL.Image.Image image mode=L size=28x28 at 0x7F87140A4850>"
            ]
          },
          "metadata": {}
        },
        {
          "output_type": "display_data",
          "data": {
            "image/png": "[encoded data removed]",
            "text/plain": [
              "<PIL.Image.Image image mode=L size=28x28 at 0x7F87140A4350>"
            ]
          },
          "metadata": {}
        },
        {
          "output_type": "display_data",
          "data": {
            "image/png": "[encoded data removed]",
            "text/plain": [
              "<PIL.Image.Image image mode=L size=28x28 at 0x7F87141E67D0>"
            ]
          },
          "metadata": {}
        },
        {
          "output_type": "stream",
          "name": "stdout",
          "text": [
            "epoch  11\n"
          ]
        },
        {
          "output_type": "display_data",
          "data": {
            "image/png": "[encoded data removed]",
            "text/plain": [
              "<PIL.Image.Image image mode=L size=28x28 at 0x7F87141BA550>"
            ]
          },
          "metadata": {}
        },
        {
          "output_type": "display_data",
          "data": {
            "image/png": "[encoded data removed]",
            "text/plain": [
              "<PIL.Image.Image image mode=L size=28x28 at 0x7F87140A71D0>"
            ]
          },
          "metadata": {}
        },
        {
          "output_type": "display_data",
          "data": {
            "image/png": "[encoded data removed]",
            "text/plain": [
              "<PIL.Image.Image image mode=L size=28x28 at 0x7F87141BA550>"
            ]
          },
          "metadata": {}
        },
        {
          "output_type": "stream",
          "name": "stdout",
          "text": [
            "epoch  12\n"
          ]
        },
        {
          "output_type": "display_data",
          "data": {
            "image/png": "[encoded data removed]",
            "text/plain": [
              "<PIL.Image.Image image mode=L size=28x28 at 0x7F87140A4350>"
            ]
          },
          "metadata": {}
        },
        {
          "output_type": "display_data",
          "data": {
            "image/png": "[encoded data removed]",
            "text/plain": [
              "<PIL.Image.Image image mode=L size=28x28 at 0x7F87140A44D0>"
            ]
          },
          "metadata": {}
        },
        {
          "output_type": "display_data",
          "data": {
            "image/png": "[encoded data removed]",
            "text/plain": [
              "<PIL.Image.Image image mode=L size=28x28 at 0x7F87140A4F50>"
            ]
          },
          "metadata": {}
        },
        {
          "output_type": "stream",
          "name": "stdout",
          "text": [
            "epoch  13\n"
          ]
        },
        {
          "output_type": "display_data",
          "data": {
            "image/png": "[encoded data removed]",
            "text/plain": [
              "<PIL.Image.Image image mode=L size=28x28 at 0x7F87140A7750>"
            ]
          },
          "metadata": {}
        },
        {
          "output_type": "display_data",
          "data": {
            "image/png": "[encoded data removed]",
            "text/plain": [
              "<PIL.Image.Image image mode=L size=28x28 at 0x7F87140A4B10>"
            ]
          },
          "metadata": {}
        },
        {
          "output_type": "display_data",
          "data": {
            "image/png": "[encoded data removed]",
            "text/plain": [
              "<PIL.Image.Image image mode=L size=28x28 at 0x7F87140A7290>"
            ]
          },
          "metadata": {}
        },
        {
          "output_type": "stream",
          "name": "stdout",
          "text": [
            "epoch  14\n"
          ]
        },
        {
          "output_type": "display_data",
          "data": {
            "image/png": "[encoded data removed]",
            "text/plain": [
              "<PIL.Image.Image image mode=L size=28x28 at 0x7F87140A7750>"
            ]
          },
          "metadata": {}
        },
        {
          "output_type": "display_data",
          "data": {
            "image/png": "[encoded data removed]",
            "text/plain": [
              "<PIL.Image.Image image mode=L size=28x28 at 0x7F87140A4790>"
            ]
          },
          "metadata": {}
        },
        {
          "output_type": "display_data",
          "data": {
            "image/png": "[encoded data removed]",
            "text/plain": [
              "<PIL.Image.Image image mode=L size=28x28 at 0x7F87140A79D0>"
            ]
          },
          "metadata": {}
        },
        {
          "output_type": "stream",
          "name": "stdout",
          "text": [
            "epoch  15\n"
          ]
        },
        {
          "output_type": "display_data",
          "data": {
            "image/png": "[encoded data removed]",
            "text/plain": [
              "<PIL.Image.Image image mode=L size=28x28 at 0x7F87140A4590>"
            ]
          },
          "metadata": {}
        },
        {
          "output_type": "display_data",
          "data": {
            "image/png": "[encoded data removed]",
            "text/plain": [
              "<PIL.Image.Image image mode=L size=28x28 at 0x7F87140A99D0>"
            ]
          },
          "metadata": {}
        },
        {
          "output_type": "display_data",
          "data": {
            "image/png": "[encoded data removed]",
            "text/plain": [
              "<PIL.Image.Image image mode=L size=28x28 at 0x7F87140A90D0>"
            ]
          },
          "metadata": {}
        },
        {
          "output_type": "stream",
          "name": "stdout",
          "text": [
            "epoch  16\n"
          ]
        },
        {
          "output_type": "display_data",
          "data": {
            "image/png": "[encoded data removed]",
            "text/plain": [
              "<PIL.Image.Image image mode=L size=28x28 at 0x7F87140A7550>"
            ]
          },
          "metadata": {}
        },
        {
          "output_type": "display_data",
          "data": {
            "image/png": "[encoded data removed]",
            "text/plain": [
              "<PIL.Image.Image image mode=L size=28x28 at 0x7F87140A4850>"
            ]
          },
          "metadata": {}
        },
        {
          "output_type": "display_data",
          "data": {
            "image/png": "[encoded data removed]",
            "text/plain": [
              "<PIL.Image.Image image mode=L size=28x28 at 0x7F87140A44D0>"
            ]
          },
          "metadata": {}
        }
      ]
    },
    {
      "cell_type": "markdown",
      "metadata": {
        "id": "DmuO0JRbwymo"
      },
      "source": [
        "#Bài tập\n",
        "1. Dụa vào mô hình GAN ở trên hãy tạo ra một mô hình DCGAN và train trên tập Mnist\n",
        "\n",
        "2. Sau khi train xong hãy viết một hàm sao cho khi đưa vào 4 lattent random vectors thì mô hình sẽ tạo ra 4 samples"
      ]
    },
    {
      "cell_type": "markdown",
      "metadata": {
        "id": "sAciX05WukBE"
      },
      "source": [
        "Generator:\n",
        "\n",
        "![image.png](data:image/png;base64,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)\n",
        "\n",
        "Discriminator: \n",
        "\n",
        "![image.png](data:image/png;base64,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)"
      ]
    },
    {
      "cell_type": "markdown",
      "metadata": {
        "id": "mRGp3MI5xa_g"
      },
      "source": [
        "generator = keras.Sequential()\n",
        "\n",
        "generator.add(keras.Input(shape=(100,)))\n",
        "\n",
        "generator.add(keras.layers.Dense(units=7*7*256,\n",
        "                          use_bias=False))\n",
        "generator.add(keras.layers.Reshape((7,7,256)))\n",
        "\n",
        "generator.add(keras.layers.BatchNormalization())\n",
        "\n",
        "generator.add(keras.layers.Conv2DTranspose(filters=128,\n",
        "                                           kernel_size=[5,5],\n",
        "                                           strides=(1,1),\n",
        "                                           padding=\"same\",\n",
        "                                           use_bias=False))\n",
        "generator.add(keras.layers.BatchNormalization())\n",
        "generator.add(keras.layers.LeakyReLU(0.2))\n",
        "\n",
        "generator.add(keras.layers.Conv2DTranspose(filters=64,\n",
        "                                           kernel_size=[5,5],\n",
        "                                           strides=(2,2),\n",
        "                                           padding=\"same\",\n",
        "                                           use_bias=False))\n",
        "generator.add(keras.layers.BatchNormalization())\n",
        "generator.add(keras.layers.LeakyReLU(0.2))\n",
        "\n",
        "generator.add(keras.layers.Conv2DTranspose(filters=1,\n",
        "                                           kernel_size=[5,5],\n",
        "                                           strides=(2,2),\n",
        "                                           padding=\"same\",\n",
        "                                           use_bias=False,\n",
        "                                           activation=\"tanh\"))\n",
        "generator.add(keras.layers.Reshape((28,28,1)))\n",
        "\n",
        "\n",
        "generator.summary()"
      ]
    },
    {
      "cell_type": "code",
      "metadata": {
        "id": "980iDd52xpg7",
        "colab": {
          "base_uri": "https://localhost:8080/"
        },
        "outputId": "8c6f6826-4568-496b-9faf-f21d12503009"
      },
      "source": [
        "discriminator=keras.Sequential()\n",
        "discriminator.add(keras.layers.Input((28,28,1)))\n",
        "discriminator.add(keras.layers.Convolution2D(filters=64,\n",
        "                                             kernel_size=[5,5],\n",
        "                                             strides=[2,2],\n",
        "                                             padding=\"same\"))\n",
        "discriminator.add(keras.layers.LeakyReLU(0.2))\n",
        "\n",
        "discriminator.add(keras.layers.Convolution2D(filters=128,\n",
        "                                             kernel_size=[5,5],\n",
        "                                             strides=[2,2],\n",
        "                                             padding=\"same\"))\n",
        "discriminator.add(keras.layers.LeakyReLU(0.2))\n",
        "\n",
        "discriminator.add(keras.layers.Flatten())\n",
        "\n",
        "discriminator.add(keras.layers.Dense(units=1))\n",
        "discriminator.add(keras.layers.Activation(activation=\"sigmoid\",name=\"sigmoid\"))\n",
        "\n",
        "discriminator.summary()"
      ],
      "execution_count": null,
      "outputs": [
        {
          "output_type": "stream",
          "name": "stdout",
          "text": [
            "Model: \"sequential_1\"\n",
            "_________________________________________________________________\n",
            " Layer (type)                Output Shape              Param #   \n",
            "=================================================================\n",
            " conv2d (Conv2D)             (None, 14, 14, 64)        1664      \n",
            "                                                                 \n",
            " leaky_re_lu_2 (LeakyReLU)   (None, 14, 14, 64)        0         \n",
            "                                                                 \n",
            " conv2d_1 (Conv2D)           (None, 7, 7, 128)         204928    \n",
            "                                                                 \n",
            " leaky_re_lu_3 (LeakyReLU)   (None, 7, 7, 128)         0         \n",
            "                                                                 \n",
            " flatten (Flatten)           (None, 6272)              0         \n",
            "                                                                 \n",
            " dense_1 (Dense)             (None, 1)                 6273      \n",
            "                                                                 \n",
            " sigmoid (Activation)        (None, 1)                 0         \n",
            "                                                                 \n",
            "=================================================================\n",
            "Total params: 212,865\n",
            "Trainable params: 212,865\n",
            "Non-trainable params: 0\n",
            "_________________________________________________________________\n"
          ]
        }
      ]
    },
    {
      "cell_type": "code",
      "metadata": {
        "colab": {
          "base_uri": "https://localhost:8080/",
          "height": 222
        },
        "id": "78rYPErljUH1",
        "outputId": "c04f9bce-ca57-4b48-8dd6-c0cba57698aa"
      },
      "source": [
        "import matplotlib.pyplot as plt\n",
        "\n",
        "random_latent_vectors = tf.random.normal(shape=(4, 100))\n",
        "generated_images = gan.generator(random_latent_vectors)\n",
        "generated_images *= 255\n",
        "generated_images.numpy()\n",
        "fig, axs = plt.subplots(1,4)\n",
        "fig.suptitle('Image')\n",
        "for i in range(4):\n",
        "  img = keras.preprocessing.image.array_to_img(generated_images[i])\n",
        "  axs[i].imshow(img)"
      ],
      "execution_count": null,
      "outputs": [
        {
          "output_type": "display_data",
          "data": {
            "image/png": "[encoded data removed]",
            "text/plain": [
              "<Figure size 432x288 with 4 Axes>"
            ]
          },
          "metadata": {
            "needs_background": "light"
          }
        }
      ]
    },
    {
      "cell_type": "code",
      "metadata": {
        "id": "x81KyGJrAjy3"
      },
      "source": [
        ""
      ],
      "execution_count": null,
      "outputs": []
    }
  ]
}